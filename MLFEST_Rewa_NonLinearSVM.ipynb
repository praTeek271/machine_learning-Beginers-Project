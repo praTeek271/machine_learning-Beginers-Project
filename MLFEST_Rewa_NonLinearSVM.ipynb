{
  "nbformat": 4,
  "nbformat_minor": 0,
  "metadata": {
    "colab": {
      "name": "MLFEST_SVM_Non-L.ipynb",
      "provenance": [],
      "collapsed_sections": []
    },
    "kernelspec": {
      "name": "python3",
      "display_name": "Python 3"
    },
    "language_info": {
      "name": "python"
    }
  },
  "cells": [
    {
      "cell_type": "markdown",
      "source": [
        "##**Creating non-linear scattered dataset**"
      ],
      "metadata": {
        "id": "arcQfJUNlXAJ"
      }
    },
    {
      "cell_type": "code",
      "execution_count": null,
      "metadata": {
        "colab": {
          "base_uri": "https://localhost:8080/"
        },
        "id": "Gxn7orQoGxs5",
        "outputId": "1d9d52c0-cb93-4e83-d5dd-a146f6535602"
      },
      "outputs": [
        {
          "output_type": "stream",
          "name": "stdout",
          "text": [
            "[22.4, 29.6, 22.0, 29.7, 27.5, 25.9, 22.0, 21.1, 29.5, 21.7, 25.7, 22.5, 27.4, 28.7, 28.6, 28.4, 25.6, 30.0, 21.3, 27.4, 24.6, 27.3, 23.4, 20.4, 21.1, 25.2, 28.6, 29.9, 27.9]\n",
            "[15.2, 19.7, 11.6, 18.2, 19.3, 19.5, 11.2, 15.0, 10.6, 19.6, 13.9, 12.6, 17.1, 11.8, 18.2, 13.5, 10.6, 10.5, 11.2, 15.2, 18.4, 10.6, 19.2, 18.9, 13.6, 14.9, 17.2, 10.8, 14.4]\n",
            "[14.4, 15.0, 14.4, 13.0, 15.1, 19.7, 18.9, 10.4, 12.5, 19.7, 14.9, 12.3, 16.5, 16.6, 34.1, 48.5, 48.1, 39.7, 30.2, 35.0, 49.5, 32.9, 34.1, 47.3, 35.4, 43.4, 39.9, 45.8, 37.0]\n",
            "[5.6, 24.3, 4.2, 15.2, 6.8, 4.0, 7.4, 28.1, 18.8, 27.6, 9.3, 9.5, 16.4, 19.4, 3.1, 1.5, 24.0, 27.2, 29.9, 21.1, 17.9, 15.6, 4.4, 9.2, 6.6, 14.3, 29.2, 8.4, 1.6]\n"
          ]
        }
      ],
      "source": [
        "#importing required libraries\n",
        "\n",
        "import numpy as np\n",
        "import pandas as pd\n",
        "import matplotlib.pyplot as plt\n",
        "import random as random\n",
        "\n",
        "#creating random float coordinates in a particular range, such that the data overall wouldn't be a linearly spearable problem\n",
        "\n",
        "xaxis1=[]\n",
        "yaxis1=[]\n",
        "xaxis2=[]\n",
        "yaxis2=[]\n",
        "for i in range(29):\n",
        "  xaxis1.append(round(random.uniform(20.0,30.0),1))\n",
        "  yaxis1.append(round(random.uniform(10.0,20.0),1))\n",
        "for i in range(29):\n",
        "  yaxis2.append(round(random.uniform(0.0,30.0),1)) \n",
        "for i in range(14):\n",
        "  xaxis2.append(round(random.uniform(10.0,20.0),1))\n",
        "for i in range(15):\n",
        "  xaxis2.append(round(random.uniform(30.0,50.0),1))\n",
        "\n",
        "print(xaxis1)\n",
        "print(yaxis1)\n",
        "print(xaxis2)\n",
        "print(yaxis2)"
      ]
    },
    {
      "cell_type": "code",
      "source": [
        "#plotting the dataset\n",
        "\n",
        "plt.scatter(xaxis1, yaxis1, c='green')\n",
        "plt.scatter(xaxis2, yaxis2, c='red')\n",
        "plt.show()"
      ],
      "metadata": {
        "colab": {
          "base_uri": "https://localhost:8080/",
          "height": 265
        },
        "id": "NsT3tAL3Krai",
        "outputId": "cad8e8ee-e497-4623-9b29-4e01f858bc03"
      },
      "execution_count": null,
      "outputs": [
        {
          "output_type": "display_data",
          "data": {
            "image/png": "[encoded data removed]",
            "text/plain": [
              "<Figure size 432x288 with 1 Axes>"
            ]
          },
          "metadata": {
            "needs_background": "light"
          }
        }
      ]
    },
    {
      "cell_type": "code",
      "source": [
        "#combining data points and their labels-namely green and red, in order to shuffle the dataset\n",
        "\n",
        "data=[]\n",
        "for i in range(29):\n",
        "  data.append([xaxis1[i],yaxis1[i],'green'])\n",
        "  data.append([xaxis2[i],yaxis2[i],'red'])\n",
        "random.shuffle(data)\n",
        "data"
      ],
      "metadata": {
        "colab": {
          "base_uri": "https://localhost:8080/"
        },
        "id": "iehwC5PuK7QQ",
        "outputId": "29b3df85-dd3c-4ebf-b3ff-dac6c0237b7e"
      },
      "execution_count": null,
      "outputs": [
        {
          "output_type": "execute_result",
          "data": {
            "text/plain": [
              "[[28.7, 11.8, 'green'],\n",
              " [21.1, 15.0, 'green'],\n",
              " [25.2, 14.9, 'green'],\n",
              " [21.1, 13.6, 'green'],\n",
              " [28.6, 17.2, 'green'],\n",
              " [25.7, 13.9, 'green'],\n",
              " [35.4, 6.6, 'red'],\n",
              " [30.2, 29.9, 'red'],\n",
              " [16.6, 19.4, 'red'],\n",
              " [25.6, 10.6, 'green'],\n",
              " [24.6, 18.4, 'green'],\n",
              " [47.3, 9.2, 'red'],\n",
              " [22.0, 11.2, 'green'],\n",
              " [27.4, 15.2, 'green'],\n",
              " [12.5, 18.8, 'red'],\n",
              " [43.4, 14.3, 'red'],\n",
              " [49.5, 17.9, 'red'],\n",
              " [21.3, 11.2, 'green'],\n",
              " [35.0, 21.1, 'red'],\n",
              " [19.7, 4.0, 'red'],\n",
              " [30.0, 10.5, 'green'],\n",
              " [34.1, 3.1, 'red'],\n",
              " [10.4, 28.1, 'red'],\n",
              " [34.1, 4.4, 'red'],\n",
              " [45.8, 8.4, 'red'],\n",
              " [48.5, 1.5, 'red'],\n",
              " [14.9, 9.3, 'red'],\n",
              " [29.7, 18.2, 'green'],\n",
              " [20.4, 18.9, 'green'],\n",
              " [25.9, 19.5, 'green'],\n",
              " [29.5, 10.6, 'green'],\n",
              " [21.7, 19.6, 'green'],\n",
              " [28.6, 18.2, 'green'],\n",
              " [37.0, 1.6, 'red'],\n",
              " [27.3, 10.6, 'green'],\n",
              " [14.4, 5.6, 'red'],\n",
              " [12.3, 9.5, 'red'],\n",
              " [15.0, 24.3, 'red'],\n",
              " [32.9, 15.6, 'red'],\n",
              " [22.4, 15.2, 'green'],\n",
              " [23.4, 19.2, 'green'],\n",
              " [48.1, 24.0, 'red'],\n",
              " [29.6, 19.7, 'green'],\n",
              " [27.9, 14.4, 'green'],\n",
              " [28.4, 13.5, 'green'],\n",
              " [14.4, 4.2, 'red'],\n",
              " [22.5, 12.6, 'green'],\n",
              " [19.7, 27.6, 'red'],\n",
              " [13.0, 15.2, 'red'],\n",
              " [16.5, 16.4, 'red'],\n",
              " [39.7, 27.2, 'red'],\n",
              " [15.1, 6.8, 'red'],\n",
              " [27.4, 17.1, 'green'],\n",
              " [29.9, 10.8, 'green'],\n",
              " [27.5, 19.3, 'green'],\n",
              " [39.9, 29.2, 'red'],\n",
              " [22.0, 11.6, 'green'],\n",
              " [18.9, 7.4, 'red']]"
            ]
          },
          "metadata": {},
          "execution_count": 8
        }
      ]
    },
    {
      "cell_type": "code",
      "source": [
        "#separating the data points and labels of classification\n",
        "\n",
        "dataset=[]\n",
        "labels=[]\n",
        "for i in range(29):\n",
        "  dataset.append([data[i][0],data[i][1]])\n",
        "  labels.append([data[i][2]])\n",
        "  \n",
        "#splitting the data points and original labels into training and testing \n",
        "#testing size 10%\n",
        "from sklearn.model_selection import train_test_split\n",
        "X_train, X_test, Y_train, Y_test = train_test_split(dataset, labels, test_size = 0.10)"
      ],
      "metadata": {
        "id": "1OxNdY-TLEl2"
      },
      "execution_count": null,
      "outputs": []
    },
    {
      "cell_type": "markdown",
      "source": [
        "##**Training model using Linear SVM**"
      ],
      "metadata": {
        "id": "3bZktWUYlQG1"
      }
    },
    {
      "cell_type": "code",
      "source": [
        "#creating SVC class object for Non-linear SVM with polynomial kernel\n",
        "\n",
        "from sklearn.svm import SVC\n",
        "svclassifier = SVC(kernel='poly')\n",
        "\n",
        "#training the model\n",
        "svclassifier.fit(X_train, Y_train)"
      ],
      "metadata": {
        "colab": {
          "base_uri": "https://localhost:8080/"
        },
        "id": "BupETXXiLLrw",
        "outputId": "0a2b3a80-b91e-4479-9595-ecd90d36eb85"
      },
      "execution_count": null,
      "outputs": [
        {
          "output_type": "stream",
          "name": "stderr",
          "text": [
            "/usr/local/lib/python3.7/dist-packages/sklearn/utils/validation.py:993: DataConversionWarning: A column-vector y was passed when a 1d array was expected. Please change the shape of y to (n_samples, ), for example using ravel().\n",
            "  y = column_or_1d(y, warn=True)\n"
          ]
        },
        {
          "output_type": "execute_result",
          "data": {
            "text/plain": [
              "SVC(kernel='poly')"
            ]
          },
          "metadata": {},
          "execution_count": 10
        }
      ]
    },
    {
      "cell_type": "code",
      "source": [
        "#predicting class of testing data points\n",
        "y_pred = svclassifier.predict(X_test)"
      ],
      "metadata": {
        "id": "BPtWCmjaUYye"
      },
      "execution_count": null,
      "outputs": []
    },
    {
      "cell_type": "code",
      "source": [
        "#testing data points\n",
        "X_test"
      ],
      "metadata": {
        "colab": {
          "base_uri": "https://localhost:8080/"
        },
        "id": "qVoYdSsWLYxk",
        "outputId": "5e648f24-18e2-41c7-92ed-aeffffa7faf1"
      },
      "execution_count": null,
      "outputs": [
        {
          "output_type": "execute_result",
          "data": {
            "text/plain": [
              "[[16.6, 19.4], [34.1, 3.1], [43.4, 14.3]]"
            ]
          },
          "metadata": {},
          "execution_count": 12
        }
      ]
    },
    {
      "cell_type": "code",
      "source": [
        "#predicted classes\n",
        "y_pred"
      ],
      "metadata": {
        "colab": {
          "base_uri": "https://localhost:8080/"
        },
        "id": "Q_JGpyvmLaqi",
        "outputId": "086f98a3-a37b-45cc-82be-173a43555d73"
      },
      "execution_count": null,
      "outputs": [
        {
          "output_type": "execute_result",
          "data": {
            "text/plain": [
              "array(['green', 'red', 'red'], dtype='<U5')"
            ]
          },
          "metadata": {},
          "execution_count": 13
        }
      ]
    },
    {
      "cell_type": "code",
      "source": [
        "#finding the support vectors of the fitted model\n",
        "svclassifier.support_vectors_\n",
        "x=[]\n",
        "y=[]\n",
        "for j in range(1,3):\n",
        "  x.append(svclassifier.support_vectors_[j][0])\n",
        "  y.append(svclassifier.support_vectors_[j][1])"
      ],
      "metadata": {
        "id": "_1ORKNG8LqRb"
      },
      "execution_count": null,
      "outputs": []
    },
    {
      "cell_type": "code",
      "source": [
        "#plotting data points and support vectors\n",
        "plt.scatter(xaxis1, yaxis1, c='green')\n",
        "plt.scatter(xaxis2, yaxis2, c='red')\n",
        "plt.scatter(svclassifier.support_vectors_[:, 0], svclassifier.support_vectors_[:, 1], c='blue')\n",
        "plt.show()"
      ],
      "metadata": {
        "colab": {
          "base_uri": "https://localhost:8080/",
          "height": 265
        },
        "id": "Yxjr61ztLu7j",
        "outputId": "493e4761-3046-4840-b620-8fac1cab3a4e"
      },
      "execution_count": null,
      "outputs": [
        {
          "output_type": "display_data",
          "data": {
            "image/png": "[encoded data removed]",
            "text/plain": [
              "<Figure size 432x288 with 1 Axes>"
            ]
          },
          "metadata": {
            "needs_background": "light"
          }
        }
      ]
    }
  ]
}