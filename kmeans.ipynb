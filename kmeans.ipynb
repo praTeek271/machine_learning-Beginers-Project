{
  "nbformat": 4,
  "nbformat_minor": 0,
  "metadata": {
    "colab": {
      "name": "kmeans.ipynb",
      "provenance": [],
      "collapsed_sections": []
    },
    "kernelspec": {
      "name": "python3",
      "display_name": "Python 3"
    },
    "language_info": {
      "name": "python"
    }
  },
  "cells": [
    {
      "cell_type": "code",
      "execution_count": null,
      "metadata": {
        "id": "WfpEnOP-UHoV"
      },
      "outputs": [],
      "source": [
        "import numpy as np\n",
        "import matplotlib.pyplot as plt\n",
        "from sklearn.datasets import make_blobs"
      ]
    },
    {
      "cell_type": "code",
      "source": [
        "# To create a blob of 200 data points\n",
        "dataset = make_blobs(n_samples=200,\n",
        "                     n_features=2,\n",
        "                     centers=4,\n",
        "                     cluster_std=1.6,\n",
        "                     random_state=50)"
      ],
      "metadata": {
        "id": "LuJGkh-mUzTa"
      },
      "execution_count": null,
      "outputs": []
    },
    {
      "cell_type": "code",
      "source": [
        "points = dataset[0]"
      ],
      "metadata": {
        "id": "dlMfxW7qU7Zp"
      },
      "execution_count": null,
      "outputs": []
    },
    {
      "cell_type": "code",
      "source": [
        "#importing kmeans \n",
        "from sklearn.cluster import KMeans"
      ],
      "metadata": {
        "id": "ZX69PlonU92D"
      },
      "execution_count": null,
      "outputs": []
    },
    {
      "cell_type": "code",
      "source": [
        "#creating a K Means Objects\n",
        "kmeans = KMeans(n_clusters=4)"
      ],
      "metadata": {
        "id": "T2xjwtkMVNEK"
      },
      "execution_count": null,
      "outputs": []
    },
    {
      "cell_type": "code",
      "source": [
        "#Fit the KMeans object to the dataset\n",
        "kmeans.fit(points)"
      ],
      "metadata": {
        "colab": {
          "base_uri": "https://localhost:8080/"
        },
        "id": "eUilPeBiVXoY",
        "outputId": "8c72d70f-043d-4d29-ff07-24518ed6af0d"
      },
      "execution_count": null,
      "outputs": [
        {
          "output_type": "execute_result",
          "data": {
            "text/plain": [
              "KMeans(n_clusters=4)"
            ]
          },
          "metadata": {},
          "execution_count": 8
        }
      ]
    },
    {
      "cell_type": "code",
      "source": [
        "plt.scatter(dataset[0][:,0], dataset[0][:,1])"
      ],
      "metadata": {
        "colab": {
          "base_uri": "https://localhost:8080/",
          "height": 282
        },
        "id": "JVN_t0CZVg7_",
        "outputId": "f1f49a2e-1607-4963-afd7-28fa04c0053f"
      },
      "execution_count": null,
      "outputs": [
        {
          "output_type": "execute_result",
          "data": {
            "text/plain": [
              "<matplotlib.collections.PathCollection at 0x7f61e1d0cdd0>"
            ]
          },
          "metadata": {},
          "execution_count": 9
        },
        {
          "output_type": "display_data",
          "data": {
            "image/png": "[encoded data removed]",
            "text/plain": [
              "<Figure size 432x288 with 1 Axes>"
            ]
          },
          "metadata": {
            "needs_background": "light"
          }
        }
      ]
    },
    {
      "cell_type": "code",
      "source": [
        "#To indentify clusters\n",
        "clusters = kmeans.cluster_centers_"
      ],
      "metadata": {
        "id": "iGwvBS4mVzXQ"
      },
      "execution_count": null,
      "outputs": []
    },
    {
      "cell_type": "code",
      "source": [
        "#To print the clusters \n",
        "print(clusters)"
      ],
      "metadata": {
        "colab": {
          "base_uri": "https://localhost:8080/"
        },
        "id": "GATnshf9WG9C",
        "outputId": "a514d5fd-fed0-4dd4-a6e2-a3cf2e28cd5d"
      },
      "execution_count": null,
      "outputs": [
        {
          "output_type": "stream",
          "name": "stdout",
          "text": [
            "[[ 0.05161133 -5.35489826]\n",
            " [-2.40167949 10.17352695]\n",
            " [-5.56465793 -2.34988939]\n",
            " [-1.92101646  5.21673484]]\n"
          ]
        }
      ]
    },
    {
      "cell_type": "code",
      "source": [
        "y_km = kmeans.fit_predict(points)"
      ],
      "metadata": {
        "id": "-R4LWU26WL50"
      },
      "execution_count": null,
      "outputs": []
    },
    {
      "cell_type": "code",
      "source": [
        "#To plot the data points with clusters inside\n",
        "plt.scatter(points[y_km == 0,0], points[y_km == 0,1], s =50, color = 'red')\n",
        "plt.scatter(points[y_km == 1,0], points[y_km == 1,1], s =50, color = 'green')\n",
        "plt.scatter(points[y_km == 2,0], points[y_km == 2,1], s =50, color = 'yellow')\n",
        "plt.scatter(points[y_km == 3,0], points[y_km == 3,1], s =50, color = 'cyan')\n",
        "\n",
        "plt.scatter(clusters[0][0], clusters[0][1], marker=\"*\", s = 200, color='black')\n",
        "plt.scatter(clusters[1][0], clusters[1][1], marker=\"*\", s = 200, color='black')\n",
        "plt.scatter(clusters[2][0], clusters[2][1], marker=\"*\", s = 200, color='black')\n",
        "plt.scatter(clusters[3][0], clusters[3][1], marker=\"*\", s = 200, color='black')"
      ],
      "metadata": {
        "colab": {
          "base_uri": "https://localhost:8080/",
          "height": 282
        },
        "id": "CoWKlKkqWd0d",
        "outputId": "afd70179-0b83-4689-e5d0-c37688c9f951"
      },
      "execution_count": null,
      "outputs": [
        {
          "output_type": "execute_result",
          "data": {
            "text/plain": [
              "<matplotlib.collections.PathCollection at 0x7f61e15dfad0>"
            ]
          },
          "metadata": {},
          "execution_count": 19
        },
        {
          "output_type": "display_data",
          "data": {
            "image/png": "[encoded data removed]",
            "text/plain": [
              "<Figure size 432x288 with 1 Axes>"
            ]
          },
          "metadata": {
            "needs_background": "light"
          }
        }
      ]
    }
  ]
}