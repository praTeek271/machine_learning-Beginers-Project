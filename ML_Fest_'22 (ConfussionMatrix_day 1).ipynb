{
  "nbformat": 4,
  "nbformat_minor": 0,
  "metadata": {
    "colab": {
      "name": "ConfussionMatrix.ipynb",
      "provenance": []
    },
    "kernelspec": {
      "name": "python3",
      "display_name": "Python 3"
    },
    "language_info": {
      "name": "python"
    }
  },
  "cells": [
    {
      "cell_type": "code",
      "execution_count": null,
      "metadata": {
        "id": "pMYmh3gvtQII",
        "colab": {
          "base_uri": "https://localhost:8080/"
        },
        "outputId": "187e95cc-37b2-45ba-ec68-2bfeb12ab96f"
      },
      "outputs": [
        {
          "output_type": "stream",
          "name": "stdout",
          "text": [
            "300\n"
          ]
        }
      ],
      "source": [
        "import numpy as np\n",
        "import seaborn as sns\n",
        "\n",
        "\n",
        "y_pred = np.zeros(1000)\n",
        "y_test = np.zeros(1000)\n",
        "\n",
        "indices1 = np.random.randint(0,1000,300)\n",
        "indices2 = np.random.randint(0,1000,400)\n",
        "indices3 = np.random.randint(0,1000,500)\n",
        "\n",
        "y_pred[indices1] = 1\n",
        "y_test[indices2] = 1\n",
        "y_pred[indices3] = 1\n",
        "y_test[indices3] = 1"
      ]
    },
    {
      "cell_type": "code",
      "source": [
        "np.sum(y_test)"
      ],
      "metadata": {
        "colab": {
          "base_uri": "https://localhost:8080/"
        },
        "id": "H2kPTsjXtMkM",
        "outputId": "18fea082-2bec-49cb-aa5c-d69a46c231c1"
      },
      "execution_count": null,
      "outputs": [
        {
          "output_type": "execute_result",
          "data": {
            "text/plain": [
              "598.0"
            ]
          },
          "metadata": {},
          "execution_count": 2
        }
      ]
    },
    {
      "cell_type": "code",
      "source": [
        "np.sum(y_pred)"
      ],
      "metadata": {
        "colab": {
          "base_uri": "https://localhost:8080/"
        },
        "id": "oDQoMetQtP86",
        "outputId": "9b848ae9-4a11-4f23-b733-005f9c94d6d5"
      },
      "execution_count": null,
      "outputs": [
        {
          "output_type": "execute_result",
          "data": {
            "text/plain": [
              "549.0"
            ]
          },
          "metadata": {},
          "execution_count": 3
        }
      ]
    },
    {
      "cell_type": "code",
      "source": [
        "import matplotlib.pyplot as plt\n",
        "from sklearn.metrics import confusion_matrix\n",
        "\n",
        "\n",
        "sns.heatmap(confusion_matrix(y_test, y_pred),\n",
        "                annot=True,fmt = \"d\")\n",
        "print(confusion_matrix(y_test, y_pred))\n",
        "    \n",
        "plt.title(\"Number of 1's\",fontsize=14)\n",
        "plt.show()"
      ],
      "metadata": {
        "colab": {
          "base_uri": "https://localhost:8080/",
          "height": 317
        },
        "id": "K2HA1X42tzsK",
        "outputId": "8819f2bc-5eae-4978-f846-96c19226734f"
      },
      "execution_count": null,
      "outputs": [
        {
          "output_type": "stream",
          "name": "stdout",
          "text": [
            "[[313 104]\n",
            " [130 453]]\n"
          ]
        },
        {
          "output_type": "display_data",
          "data": {
            "image/png": "[encoded data removed]",
            "text/plain": [
              "<Figure size 432x288 with 2 Axes>"
            ]
          },
          "metadata": {
            "needs_background": "light"
          }
        }
      ]
    },
    {
      "cell_type": "code",
      "source": [
        "Tp = confusion_matrix(y_test, y_pred)[0,0]\n",
        "Fp = confusion_matrix(y_test, y_pred)[1,0]\n",
        "Fn = confusion_matrix(y_test, y_pred)[0,1]\n",
        "Tn = confusion_matrix(y_test, y_pred)[1,1]\n",
        "\n",
        "precision = Tp /(Tp + Fp)\n",
        "recall = Tp/(Tp + Fn)\n",
        "f1_score = 2*(precision * recall)/(precision + recall)\n",
        "accuracy = (Tp + Tn)/(Tp + Tn + Fp + Fn)\n",
        "print( \"Precision = \",precision)\n",
        "print(\"Recall = \",recall)\n",
        "print(\"F1_Score = \",f1_score)\n",
        "print(\"Accuracy = \", accuracy)\n"
      ],
      "metadata": {
        "colab": {
          "base_uri": "https://localhost:8080/"
        },
        "id": "mR-O-is0uy8B",
        "outputId": "84e3bb08-0fba-4b8e-9990-55cb8e096bc2"
      },
      "execution_count": null,
      "outputs": [
        {
          "output_type": "stream",
          "name": "stdout",
          "text": [
            "Precision =  0.7065462753950339\n",
            "Recall =  0.750599520383693\n",
            "F1_Score =  0.7279069767441859\n",
            "Accuracy =  0.766\n"
          ]
        }
      ]
    },
    {
      "cell_type": "code",
      "source": [
        ""
      ],
      "metadata": {
        "id": "iR0uKksVKaRz"
      },
      "execution_count": null,
      "outputs": []
    }
  ]
}