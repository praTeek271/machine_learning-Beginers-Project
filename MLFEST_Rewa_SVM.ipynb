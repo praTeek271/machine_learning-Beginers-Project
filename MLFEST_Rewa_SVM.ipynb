{
  "nbformat": 4,
  "nbformat_minor": 0,
  "metadata": {
    "colab": {
      "name": "MLFEST_SVM.ipynb",
      "provenance": [],
      "collapsed_sections": []
    },
    "kernelspec": {
      "name": "python3",
      "display_name": "Python 3"
    },
    "language_info": {
      "name": "python"
    }
  },
  "cells": [
    {
      "cell_type": "markdown",
      "source": [
        "##**Creating linearly separable scattered dataset**"
      ],
      "metadata": {
        "id": "zpirwkJSqTqM"
      }
    },
    {
      "cell_type": "code",
      "execution_count": null,
      "metadata": {
        "colab": {
          "base_uri": "https://localhost:8080/"
        },
        "id": "CB-Ibre9vYAn",
        "outputId": "5e0704a2-4087-496d-a859-b27b5c852719"
      },
      "outputs": [
        {
          "output_type": "stream",
          "name": "stdout",
          "text": [
            "[26.8, 17.5, 11.7, 9.4, 20.1, 25.0, 12.5, 24.5, 29.3, 8.6, 28.4, 14.0, 7.0, 8.9, 2.5, 3.7, 21.3, 12.6, 11.3, 6.3, 17.2, 8.8, 26.1, 1.2, 15.3, 23.8, 28.5, 24.7, 19.9]\n",
            "[6.3, 3.6, 23.4, 7.5, 7.2, 6.1, 27.4, 22.0, 11.8, 2.0, 27.1, 16.0, 12.9, 15.2, 10.6, 11.8, 12.9, 1.1, 4.3, 27.2, 21.2, 26.5, 21.8, 12.5, 0.9, 28.1, 17.5, 20.9, 22.0]\n",
            "[33.5, 49.5, 36.3, 39.2, 47.7, 34.0, 47.9, 37.7, 34.0, 36.8, 46.1, 33.9, 46.4, 41.1, 38.2, 39.9, 44.1, 43.0, 40.6, 46.3, 47.1, 37.4, 35.1, 49.1, 45.2, 35.0, 38.6, 37.6, 39.3]\n",
            "[7.7, 24.2, 2.6, 11.2, 16.4, 3.0, 12.3, 22.8, 12.9, 8.4, 4.6, 3.5, 17.5, 9.8, 24.4, 21.4, 12.2, 10.0, 18.0, 26.8, 29.9, 1.2, 22.8, 10.3, 6.2, 18.7, 11.4, 10.8, 24.3]\n"
          ]
        }
      ],
      "source": [
        "#importing required libraries\n",
        "\n",
        "import numpy as np\n",
        "import pandas as pd\n",
        "import matplotlib.pyplot as plt\n",
        "import random as random\n",
        "\n",
        "#creating random float coordinates in a particular range\n",
        "\n",
        "xaxis1=[]\n",
        "yaxis1=[]\n",
        "xaxis2=[]\n",
        "yaxis2=[]\n",
        "for i in range(29):\n",
        "  xaxis1.append(round(random.uniform(0.0,30.0),1))\n",
        "  yaxis1.append(round(random.uniform(0.0,30.0),1))\n",
        "for i in range(29):\n",
        "  xaxis2.append(round(random.uniform(33.0,50.0),1))\n",
        "  yaxis2.append(round(random.uniform(0.0,30.0),1))\n",
        "  \n",
        "print(xaxis1)\n",
        "print(yaxis1)\n",
        "print(xaxis2)\n",
        "print(yaxis2)\n",
        "\n"
      ]
    },
    {
      "cell_type": "code",
      "source": [
        "#plotting the dataset\n",
        "\n",
        "plt.scatter(xaxis1, yaxis1, c='green')\n",
        "plt.scatter(xaxis2, yaxis2, c='red')\n",
        "plt.show()"
      ],
      "metadata": {
        "colab": {
          "base_uri": "https://localhost:8080/",
          "height": 265
        },
        "id": "eQ4X4xsuqw48",
        "outputId": "94384334-a256-426c-f6fe-b57694eccfa9"
      },
      "execution_count": null,
      "outputs": [
        {
          "output_type": "display_data",
          "data": {
            "image/png": "[encoded data removed]",
            "text/plain": [
              "<Figure size 432x288 with 1 Axes>"
            ]
          },
          "metadata": {
            "needs_background": "light"
          }
        }
      ]
    },
    {
      "cell_type": "code",
      "source": [
        "#adding outliers to the dataset\n",
        "\n",
        "for i in range(2):\n",
        "  xaxis2.append(round(random.uniform(20.0,30.0),1))\n",
        "  yaxis2.append(round(random.uniform(0.0,30.0),1))\n",
        "  xaxis1.append(round(random.uniform(30.0,40.0),1))\n",
        "  yaxis1.append(round(random.uniform(0.0,30.0),1))"
      ],
      "metadata": {
        "id": "8E4Rxwwbv7TH"
      },
      "execution_count": null,
      "outputs": []
    },
    {
      "cell_type": "code",
      "source": [
        "#combining data points and their labels-namely green and red, in order to shuffle the dataset\n",
        "\n",
        "data=[]\n",
        "for i in range(29):\n",
        "  data.append([xaxis1[i],yaxis1[i],'green'])\n",
        "  data.append([xaxis2[i],yaxis2[i],'red'])\n",
        "random.shuffle(data)\n",
        "data"
      ],
      "metadata": {
        "colab": {
          "base_uri": "https://localhost:8080/"
        },
        "id": "YlaOMi57q2cs",
        "outputId": "0528edaa-f865-4758-86e6-029e5fd5efe3"
      },
      "execution_count": null,
      "outputs": [
        {
          "output_type": "execute_result",
          "data": {
            "text/plain": [
              "[[39.2, 11.2, 'red'],\n",
              " [41.1, 9.8, 'red'],\n",
              " [46.1, 4.6, 'red'],\n",
              " [8.8, 26.5, 'green'],\n",
              " [45.2, 6.2, 'red'],\n",
              " [38.6, 11.4, 'red'],\n",
              " [47.9, 12.3, 'red'],\n",
              " [12.6, 1.1, 'green'],\n",
              " [29.3, 11.8, 'green'],\n",
              " [46.4, 17.5, 'red'],\n",
              " [36.8, 8.4, 'red'],\n",
              " [12.5, 27.4, 'green'],\n",
              " [3.7, 11.8, 'green'],\n",
              " [43.0, 10.0, 'red'],\n",
              " [8.9, 15.2, 'green'],\n",
              " [47.7, 16.4, 'red'],\n",
              " [35.0, 18.7, 'red'],\n",
              " [11.3, 4.3, 'green'],\n",
              " [9.4, 7.5, 'green'],\n",
              " [25.0, 6.1, 'green'],\n",
              " [39.3, 24.3, 'red'],\n",
              " [38.2, 24.4, 'red'],\n",
              " [17.2, 21.2, 'green'],\n",
              " [26.1, 21.8, 'green'],\n",
              " [35.1, 22.8, 'red'],\n",
              " [37.7, 22.8, 'red'],\n",
              " [34.0, 3.0, 'red'],\n",
              " [24.7, 20.9, 'green'],\n",
              " [1.2, 12.5, 'green'],\n",
              " [39.9, 21.4, 'red'],\n",
              " [26.8, 6.3, 'green'],\n",
              " [34.0, 12.9, 'red'],\n",
              " [49.1, 10.3, 'red'],\n",
              " [21.3, 12.9, 'green'],\n",
              " [2.5, 10.6, 'green'],\n",
              " [28.5, 17.5, 'green'],\n",
              " [46.3, 26.8, 'red'],\n",
              " [15.3, 0.9, 'green'],\n",
              " [28.4, 27.1, 'green'],\n",
              " [19.9, 22.0, 'green'],\n",
              " [40.6, 18.0, 'red'],\n",
              " [17.5, 3.6, 'green'],\n",
              " [37.6, 10.8, 'red'],\n",
              " [6.3, 27.2, 'green'],\n",
              " [33.5, 7.7, 'red'],\n",
              " [44.1, 12.2, 'red'],\n",
              " [20.1, 7.2, 'green'],\n",
              " [8.6, 2.0, 'green'],\n",
              " [14.0, 16.0, 'green'],\n",
              " [7.0, 12.9, 'green'],\n",
              " [37.4, 1.2, 'red'],\n",
              " [23.8, 28.1, 'green'],\n",
              " [47.1, 29.9, 'red'],\n",
              " [24.5, 22.0, 'green'],\n",
              " [49.5, 24.2, 'red'],\n",
              " [11.7, 23.4, 'green'],\n",
              " [36.3, 2.6, 'red'],\n",
              " [33.9, 3.5, 'red']]"
            ]
          },
          "metadata": {},
          "execution_count": 6
        }
      ]
    },
    {
      "cell_type": "code",
      "source": [
        "#plotting the final dataset\n",
        "\n",
        "plt.scatter(xaxis1, yaxis1, c='green')\n",
        "plt.scatter(xaxis2, yaxis2, c='red')\n",
        "plt.show()"
      ],
      "metadata": {
        "colab": {
          "base_uri": "https://localhost:8080/",
          "height": 265
        },
        "id": "BCsasKh7wT6R",
        "outputId": "a349ab43-3dd3-4d3b-c28a-e40850eb018d"
      },
      "execution_count": null,
      "outputs": [
        {
          "output_type": "display_data",
          "data": {
            "image/png": "[encoded data removed]",
            "text/plain": [
              "<Figure size 432x288 with 1 Axes>"
            ]
          },
          "metadata": {
            "needs_background": "light"
          }
        }
      ]
    },
    {
      "cell_type": "code",
      "source": [
        "#separating the data points and labels of classification\n",
        "\n",
        "dataset=[]\n",
        "labels=[]\n",
        "for i in range(29):\n",
        "  dataset.append([data[i][0],data[i][1]])\n",
        "  labels.append([data[i][2]])\n",
        "\n",
        "#splitting the data points and original labels into training and testing \n",
        "#testing size 10%\n",
        "from sklearn.model_selection import train_test_split\n",
        "X_train, X_test, Y_train, Y_test = train_test_split(dataset, labels, test_size = 0.10)\n"
      ],
      "metadata": {
        "id": "4LK0ROYUtksq"
      },
      "execution_count": null,
      "outputs": []
    },
    {
      "cell_type": "code",
      "source": [
        "X_train"
      ],
      "metadata": {
        "colab": {
          "base_uri": "https://localhost:8080/"
        },
        "id": "VUcrjR4XuxEW",
        "outputId": "4a9c7418-a2c7-45ad-bc38-0a510f214c80"
      },
      "execution_count": null,
      "outputs": [
        {
          "output_type": "execute_result",
          "data": {
            "text/plain": [
              "[[45.2, 6.2],\n",
              " [47.9, 12.3],\n",
              " [38.2, 24.4],\n",
              " [24.7, 20.9],\n",
              " [26.1, 21.8],\n",
              " [46.4, 17.5],\n",
              " [38.6, 11.4],\n",
              " [29.3, 11.8],\n",
              " [25.0, 6.1],\n",
              " [12.5, 27.4],\n",
              " [39.3, 24.3],\n",
              " [17.2, 21.2],\n",
              " [35.1, 22.8],\n",
              " [9.4, 7.5],\n",
              " [35.0, 18.7],\n",
              " [8.9, 15.2],\n",
              " [12.6, 1.1],\n",
              " [3.7, 11.8],\n",
              " [41.1, 9.8],\n",
              " [34.0, 3.0],\n",
              " [46.1, 4.6],\n",
              " [36.8, 8.4],\n",
              " [11.3, 4.3],\n",
              " [8.8, 26.5],\n",
              " [1.2, 12.5],\n",
              " [37.7, 22.8]]"
            ]
          },
          "metadata": {},
          "execution_count": 9
        }
      ]
    },
    {
      "cell_type": "markdown",
      "source": [
        "##**Training model using Linear SVM**"
      ],
      "metadata": {
        "id": "Tun-ulxijKpT"
      }
    },
    {
      "cell_type": "code",
      "source": [
        "#creating SVC class object for linear Soft margin SVM (thus kernel='linear')\n",
        "from sklearn.svm import SVC\n",
        "svclassifier = SVC(kernel='linear')\n",
        "\n",
        "#training the model\n",
        "svclassifier.fit(X_train, Y_train)"
      ],
      "metadata": {
        "colab": {
          "base_uri": "https://localhost:8080/"
        },
        "id": "zgewdSbPu20L",
        "outputId": "4f4d8411-9b38-428e-922c-ec75925ad822"
      },
      "execution_count": null,
      "outputs": [
        {
          "output_type": "stream",
          "name": "stderr",
          "text": [
            "/usr/local/lib/python3.7/dist-packages/sklearn/utils/validation.py:993: DataConversionWarning: A column-vector y was passed when a 1d array was expected. Please change the shape of y to (n_samples, ), for example using ravel().\n",
            "  y = column_or_1d(y, warn=True)\n"
          ]
        },
        {
          "output_type": "execute_result",
          "data": {
            "text/plain": [
              "SVC(kernel='linear')"
            ]
          },
          "metadata": {},
          "execution_count": 10
        }
      ]
    },
    {
      "cell_type": "code",
      "source": [
        "#predicting class of testing data points\n",
        "y_pred = svclassifier.predict(X_test)"
      ],
      "metadata": {
        "id": "8icvgV2VxG8z"
      },
      "execution_count": null,
      "outputs": []
    },
    {
      "cell_type": "code",
      "source": [
        "#testing data points\n",
        "X_test"
      ],
      "metadata": {
        "colab": {
          "base_uri": "https://localhost:8080/"
        },
        "id": "0WMRqULixTqU",
        "outputId": "e6cee6c1-a48d-49b8-853a-9a0e85b42d66"
      },
      "execution_count": null,
      "outputs": [
        {
          "output_type": "execute_result",
          "data": {
            "text/plain": [
              "[[39.2, 11.2], [47.7, 16.4], [43.0, 10.0]]"
            ]
          },
          "metadata": {},
          "execution_count": 12
        }
      ]
    },
    {
      "cell_type": "code",
      "source": [
        "#predicted classes\n",
        "y_pred"
      ],
      "metadata": {
        "colab": {
          "base_uri": "https://localhost:8080/"
        },
        "id": "sYSAD7iexKZT",
        "outputId": "cd94f9dd-c939-47b9-b516-ca338abc886f"
      },
      "execution_count": null,
      "outputs": [
        {
          "output_type": "execute_result",
          "data": {
            "text/plain": [
              "array(['red', 'red', 'red'], dtype='<U5')"
            ]
          },
          "metadata": {},
          "execution_count": 13
        }
      ]
    },
    {
      "cell_type": "code",
      "source": [
        "#finding the support vectors of the fitted model\n",
        "svclassifier.support_vectors_\n",
        "x=[]\n",
        "y=[]\n",
        "for j in range(1,3):\n",
        "  x.append(svclassifier.support_vectors_[j][0])\n",
        "  y.append(svclassifier.support_vectors_[j][1])\n"
      ],
      "metadata": {
        "id": "zXIY0OYg3Kqn"
      },
      "execution_count": null,
      "outputs": []
    },
    {
      "cell_type": "code",
      "source": [
        "#plotting data points and support vectors\n",
        "plt.scatter(xaxis1, yaxis1, c='green')\n",
        "plt.scatter(xaxis2, yaxis2, c='red')\n",
        "plt.scatter(svclassifier.support_vectors_[:, 0], svclassifier.support_vectors_[:, 1], c='blue')\n",
        "plt.show()"
      ],
      "metadata": {
        "colab": {
          "base_uri": "https://localhost:8080/",
          "height": 265
        },
        "id": "H7l9buBW3XyW",
        "outputId": "819c53e5-e787-43c3-fc30-8367d9bc0e81"
      },
      "execution_count": null,
      "outputs": [
        {
          "output_type": "display_data",
          "data": {
            "image/png": "[encoded data removed]",
            "text/plain": [
              "<Figure size 432x288 with 1 Axes>"
            ]
          },
          "metadata": {
            "needs_background": "light"
          }
        }
      ]
    }
  ]
}